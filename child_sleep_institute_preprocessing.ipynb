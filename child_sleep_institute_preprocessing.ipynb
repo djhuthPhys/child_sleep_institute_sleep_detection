{
 "cells": [
  {
   "cell_type": "code",
   "execution_count": 1,
   "metadata": {},
   "outputs": [],
   "source": [
    "import os\n",
    "\n",
    "import numpy as np\n",
    "import pandas as pd\n",
    "import matplotlib.pyplot as plt\n",
    "\n",
    "from tqdm import tqdm"
   ]
  },
  {
   "cell_type": "code",
   "execution_count": 2,
   "metadata": {},
   "outputs": [],
   "source": [
    "# Load data\n",
    "train_series = pd.read_parquet('./sleep_institute_data/train_series.parquet')\n",
    "train_events = pd.read_csv('./sleep_institute_data/train_events.csv')"
   ]
  },
  {
   "cell_type": "markdown",
   "metadata": {},
   "source": [
    "## Create labels for each step"
   ]
  },
  {
   "cell_type": "code",
   "execution_count": 3,
   "metadata": {},
   "outputs": [
    {
     "name": "stderr",
     "output_type": "stream",
     "text": [
      "100%|██████████| 277/277 [07:07<00:00,  1.54s/it]\n"
     ]
    },
    {
     "data": {
      "text/html": [
       "<div>\n",
       "<style scoped>\n",
       "    .dataframe tbody tr th:only-of-type {\n",
       "        vertical-align: middle;\n",
       "    }\n",
       "\n",
       "    .dataframe tbody tr th {\n",
       "        vertical-align: top;\n",
       "    }\n",
       "\n",
       "    .dataframe thead th {\n",
       "        text-align: right;\n",
       "    }\n",
       "</style>\n",
       "<table border=\"1\" class=\"dataframe\">\n",
       "  <thead>\n",
       "    <tr style=\"text-align: right;\">\n",
       "      <th></th>\n",
       "      <th>series_id</th>\n",
       "      <th>step</th>\n",
       "      <th>timestamp</th>\n",
       "      <th>anglez</th>\n",
       "      <th>enmo</th>\n",
       "      <th>event</th>\n",
       "    </tr>\n",
       "  </thead>\n",
       "  <tbody>\n",
       "    <tr>\n",
       "      <th>0</th>\n",
       "      <td>038441c925bb</td>\n",
       "      <td>0</td>\n",
       "      <td>2018-08-14T15:30:00-0400</td>\n",
       "      <td>2.6367</td>\n",
       "      <td>0.0217</td>\n",
       "      <td>0.0</td>\n",
       "    </tr>\n",
       "    <tr>\n",
       "      <th>1</th>\n",
       "      <td>038441c925bb</td>\n",
       "      <td>1</td>\n",
       "      <td>2018-08-14T15:30:05-0400</td>\n",
       "      <td>2.6368</td>\n",
       "      <td>0.0215</td>\n",
       "      <td>0.0</td>\n",
       "    </tr>\n",
       "    <tr>\n",
       "      <th>2</th>\n",
       "      <td>038441c925bb</td>\n",
       "      <td>2</td>\n",
       "      <td>2018-08-14T15:30:10-0400</td>\n",
       "      <td>2.6370</td>\n",
       "      <td>0.0216</td>\n",
       "      <td>0.0</td>\n",
       "    </tr>\n",
       "    <tr>\n",
       "      <th>3</th>\n",
       "      <td>038441c925bb</td>\n",
       "      <td>3</td>\n",
       "      <td>2018-08-14T15:30:15-0400</td>\n",
       "      <td>2.6368</td>\n",
       "      <td>0.0213</td>\n",
       "      <td>0.0</td>\n",
       "    </tr>\n",
       "    <tr>\n",
       "      <th>4</th>\n",
       "      <td>038441c925bb</td>\n",
       "      <td>4</td>\n",
       "      <td>2018-08-14T15:30:20-0400</td>\n",
       "      <td>2.6368</td>\n",
       "      <td>0.0215</td>\n",
       "      <td>0.0</td>\n",
       "    </tr>\n",
       "  </tbody>\n",
       "</table>\n",
       "</div>"
      ],
      "text/plain": [
       "      series_id  step                 timestamp  anglez    enmo  event\n",
       "0  038441c925bb     0  2018-08-14T15:30:00-0400  2.6367  0.0217    0.0\n",
       "1  038441c925bb     1  2018-08-14T15:30:05-0400  2.6368  0.0215    0.0\n",
       "2  038441c925bb     2  2018-08-14T15:30:10-0400  2.6370  0.0216    0.0\n",
       "3  038441c925bb     3  2018-08-14T15:30:15-0400  2.6368  0.0213    0.0\n",
       "4  038441c925bb     4  2018-08-14T15:30:20-0400  2.6368  0.0215    0.0"
      ]
     },
     "execution_count": 3,
     "metadata": {},
     "output_type": "execute_result"
    }
   ],
   "source": [
    "def create_labels(series, events):\n",
    "    \"\"\"\n",
    "    Generates step-wise labels for each time step in each series\n",
    "    \"\"\"\n",
    "    unique_series = events.series_id.unique()\n",
    "    \n",
    "    all_labels = []\n",
    "    for id in tqdm(unique_series):\n",
    "        current_series = series[series.series_id.isin([id])]\n",
    "        current_events = events[events.series_id.isin([id])]\n",
    "        series_labels = np.zeros((current_series.shape[0],))\n",
    "        prev_step = 0\n",
    "        for i in range(current_events.shape[0]):\n",
    "            if current_events.event.iloc[i] == 'onset':\n",
    "                if not np.isnan(current_events.step.iloc[i]):\n",
    "                    series_labels[prev_step:int(current_events.step.iloc[i])] = 0\n",
    "                if np.isnan(current_events.step.iloc[i]):\n",
    "                    try:\n",
    "                        series_labels[prev_step:int(current_events.step.iloc[i+2])] = int(2)\n",
    "                    except:\n",
    "                        series_labels[prev_step:] = int(2)\n",
    "            if current_events.event.iloc[i] == 'wakeup':\n",
    "                if not np.isnan(current_events.step.iloc[i]):\n",
    "                    series_labels[prev_step:int(current_events.step.iloc[i])] = int(1)\n",
    "                if np.isnan(current_events.step.iloc[i]):\n",
    "                    try:\n",
    "                        series_labels[prev_step:int(current_events.step.iloc[i+1])] = int(2)\n",
    "                    except:\n",
    "                        series_labels[prev_step:] = int(2)\n",
    "            if not np.isnan(current_events.step.iloc[i]):\n",
    "                prev_step = int(current_events.step.iloc[i])\n",
    "\n",
    "        # Correct for periods where watch isn't worn\n",
    "        anglez_max = current_series.anglez.abs().rolling(window=500, center=True, min_periods=1).max().to_numpy()\n",
    "        enmo_max = current_series.enmo.abs().rolling(window=500, center=True, min_periods=1).max().to_numpy()\n",
    "        indxs = np.where((anglez_max < 75) & (enmo_max < 0.5) & (series_labels == 0))\n",
    "        series_labels[indxs] = int(2)\n",
    "\n",
    "        # Replace periods of unworn watches < 3 hours with label 0\n",
    "        unworn_indxs = np.where(series_labels == 2)[0]\n",
    "        unworn_windows = np.split(unworn_indxs, np.where(np.diff(unworn_indxs, prepend=unworn_indxs[0]-1) != 1)[0])\n",
    "        unworn_duration = [array.shape[0] for array in unworn_windows]\n",
    "        half_hour_length = 360*6  # Number of steps for 3 hours assuming 5 seconds per step\n",
    "        ignore_indxs = [i for i in range(len(unworn_duration)) if unworn_duration[i] < half_hour_length]\n",
    "        invalid_unworn_windows = [unworn_windows[ignore_indxs[i]] for i in range(len(ignore_indxs))]\n",
    "        for window in invalid_unworn_windows:\n",
    "            series_labels[window] = 0\n",
    "\n",
    "        # Correct for ends where watch isn't worn with periods of wakefulness\n",
    "        indxs = np.where((anglez_max > 75) & (series_labels == 2))\n",
    "        series_labels[indxs] = int(0)\n",
    "\n",
    "        all_labels.append(series_labels)\n",
    "    all_labels = np.concatenate(all_labels, axis=0)\n",
    "\n",
    "    return all_labels\n",
    "labels = create_labels(train_series, train_events)\n",
    "\n",
    "# Add label column to series data\n",
    "train_series['event'] = labels\n",
    "train_series.head()"
   ]
  },
  {
   "cell_type": "markdown",
   "metadata": {},
   "source": [
    "## Chunk series into 24 hour segments"
   ]
  },
  {
   "cell_type": "code",
   "execution_count": 4,
   "metadata": {},
   "outputs": [],
   "source": [
    "def chunk_series(train_series, train_events, ids):\n",
    "   \"\"\"\n",
    "   Segments each series_id into 24 hour segments or less depending on when recording stops and ends. \n",
    "   Returns a list of numpy arrays of the anglez and enmo data and associated sleep state labels for \n",
    "   each step. Converts lists of data into 2D arrays (day in series, step) and saves to respective files.\n",
    "   \"\"\"\n",
    "   day_length = 86400//5 # number of steps per 24 hours\n",
    "\n",
    "   ambiguous_series = [4, 18, 15, 18, 55, 65, 68, 97, 103, 104, 116, 170, 249, 151, 262, 265, 271, 273]\n",
    "   series_num = 0\n",
    "   for id in tqdm(ids):\n",
    "      if series_num in ambiguous_series:\n",
    "         print('Skipping ambiguous series...')\n",
    "         series_num += 1\n",
    "         continue\n",
    "      current_series = train_series[train_series.series_id.isin([id])]\n",
    "      current_events = train_events[train_events.series_id.isin([id])]\n",
    "      num_days = current_series.shape[0]//day_length + 1\n",
    "\n",
    "      series_anglez = current_series.anglez.to_numpy()\n",
    "      series_enmo = current_series.enmo.to_numpy()\n",
    "      series_labels = current_series.event.to_numpy()\n",
    "      anglez_diff_median = current_series.anglez.diff().abs().rolling(window=60, center=True, min_periods=1).median().to_numpy()\n",
    "      anglez_diff_median = anglez_diff_median/np.max(anglez_diff_median)\n",
    "      # anglez_min = current_series.anglez.rolling(window=60, center=True, min_periods=1).min().to_numpy()\n",
    "      # anglez_max = current_series.anglez.rolling(window=60, center=True, min_periods=1).max().to_numpy()\n",
    "      # anglez_std = current_series.anglez.rolling(window=12, center=True, min_periods=1).std().to_numpy()\n",
    "      # anglez_mean = current_series.anglez.rolling(window=12, center=True, min_periods=1).mean().to_numpy()\n",
    "      # enmo_min = current_series.enmo.rolling(window=60, center=True, min_periods=1).min().to_numpy()\n",
    "      # enmo_max = current_series.enmo.rolling(window=60, center=True, min_periods=1).max().to_numpy()\n",
    "      # enmo_std = current_series.enmo.rolling(window=12, center=True, min_periods=1).std().to_numpy()\n",
    "      # enmo_mean = current_series.enmo.rolling(window=12, center=True, min_periods=1).mean().to_numpy()\n",
    "\n",
    "      steps = current_series.step\n",
    "\n",
    "      series_num += 1\n",
    "      day_num = 0\n",
    "      for i in range(num_days):\n",
    "\n",
    "         try:\n",
    "            first_step = steps.iloc[day_length*i]\n",
    "            onset_step = current_events.step.iloc[2*i] - first_step\n",
    "            wakeup_step = current_events.step.iloc[2*i+1] - first_step\n",
    "         except:\n",
    "            onset_step = np.nan\n",
    "            wakeup_step = np.nan\n",
    "\n",
    "         crits = np.array([onset_step, wakeup_step])\n",
    "         np.save('./sleep_institute_data/chunked_data/' + id + '_events_day_' + str(day_num) + '.npy', crits)\n",
    "\n",
    "         if i < num_days-1:\n",
    "            data = np.stack([series_anglez[day_length*i:day_length*(i+1)],\n",
    "                             series_enmo[day_length*i:day_length*(i+1)],\n",
    "                             anglez_diff_median[day_length*i:day_length*(i+1)],\n",
    "                             series_labels[day_length*i:day_length*(i+1)]], axis=0)\n",
    "\n",
    "         if i == num_days-1:\n",
    "            # Pad ends of incomplete days\n",
    "            pad_length = day_length - series_anglez[day_length*i:].shape[0]\n",
    "\n",
    "            end_anglez = np.pad(series_anglez[day_length*i:], ((0, pad_length)), constant_values=(0, 0))\n",
    "            end_enmo = np.pad(series_enmo[day_length*i:], ((0, pad_length)), constant_values=(0, 0))\n",
    "            end_diff_median = np.pad(anglez_diff_median[day_length*i:], ((0, pad_length)), constant_values=(0, 0))\n",
    "            # end_ang_min = np.pad(anglez_min[day_length*i:], ((0, pad_length)), constant_values=(0, 0))\n",
    "            # end_ang_max = np.pad(anglez_max[day_length*i:], ((0, pad_length)), constant_values=(0, 0))\n",
    "            # end_ang_std = np.pad(anglez_std[day_length*i:], ((0, pad_length)), constant_values=(0, 0))\n",
    "            # end_ang_mean = np.pad(anglez_mean[day_length*i:], ((0, pad_length)), constant_values=(0, 0))\n",
    "            # end_enmo_min = np.pad(enmo_min[day_length*i:], ((0, pad_length)), constant_values=(0, 0))\n",
    "            # end_enmo_max = np.pad(enmo_max[day_length*i:], ((0, pad_length)), constant_values=(0, 0))\n",
    "            # end_enmo_std = np.pad(enmo_std[day_length*i:], ((0, pad_length)), constant_values=(0, 0))\n",
    "            # end_enmo_mean = np.pad(enmo_mean[day_length*i:], ((0, pad_length)), constant_values=(0, 0))\n",
    "            end_labels = np.pad(series_labels[day_length*i:], ((0, pad_length)), constant_values=(0, 2))\n",
    "\n",
    "            data = np.stack([end_anglez,\n",
    "                             end_enmo,\n",
    "                             end_diff_median,\n",
    "                             end_labels], axis=0)\n",
    "\n",
    "         np.save('./sleep_institute_data/chunked_data/' + id + '_day_' + str(day_num) + '.npy', data)\n",
    "         day_num += 1"
   ]
  },
  {
   "cell_type": "code",
   "execution_count": 5,
   "metadata": {},
   "outputs": [
    {
     "name": "stderr",
     "output_type": "stream",
     "text": [
      "  1%|▏         | 4/277 [00:07<08:02,  1.77s/it]"
     ]
    },
    {
     "name": "stdout",
     "output_type": "stream",
     "text": [
      "Skipping ambiguous series...\n"
     ]
    },
    {
     "name": "stderr",
     "output_type": "stream",
     "text": [
      "  5%|▌         | 15/277 [00:24<07:31,  1.72s/it]"
     ]
    },
    {
     "name": "stdout",
     "output_type": "stream",
     "text": [
      "Skipping ambiguous series...\n"
     ]
    },
    {
     "name": "stderr",
     "output_type": "stream",
     "text": [
      "  6%|▋         | 18/277 [00:28<06:09,  1.43s/it]"
     ]
    },
    {
     "name": "stdout",
     "output_type": "stream",
     "text": [
      "Skipping ambiguous series...\n"
     ]
    },
    {
     "name": "stderr",
     "output_type": "stream",
     "text": [
      " 20%|█▉        | 55/277 [01:29<06:14,  1.69s/it]"
     ]
    },
    {
     "name": "stdout",
     "output_type": "stream",
     "text": [
      "Skipping ambiguous series...\n"
     ]
    },
    {
     "name": "stderr",
     "output_type": "stream",
     "text": [
      " 23%|██▎       | 65/277 [01:45<05:48,  1.64s/it]"
     ]
    },
    {
     "name": "stdout",
     "output_type": "stream",
     "text": [
      "Skipping ambiguous series...\n"
     ]
    },
    {
     "name": "stderr",
     "output_type": "stream",
     "text": [
      " 25%|██▍       | 68/277 [01:48<04:50,  1.39s/it]"
     ]
    },
    {
     "name": "stdout",
     "output_type": "stream",
     "text": [
      "Skipping ambiguous series...\n"
     ]
    },
    {
     "name": "stderr",
     "output_type": "stream",
     "text": [
      " 35%|███▌      | 97/277 [02:36<05:00,  1.67s/it]"
     ]
    },
    {
     "name": "stdout",
     "output_type": "stream",
     "text": [
      "Skipping ambiguous series...\n"
     ]
    },
    {
     "name": "stderr",
     "output_type": "stream",
     "text": [
      " 37%|███▋      | 103/277 [02:44<04:34,  1.58s/it]"
     ]
    },
    {
     "name": "stdout",
     "output_type": "stream",
     "text": [
      "Skipping ambiguous series...\n",
      "Skipping ambiguous series...\n"
     ]
    },
    {
     "name": "stderr",
     "output_type": "stream",
     "text": [
      " 42%|████▏     | 116/277 [03:04<04:41,  1.75s/it]"
     ]
    },
    {
     "name": "stdout",
     "output_type": "stream",
     "text": [
      "Skipping ambiguous series...\n"
     ]
    },
    {
     "name": "stderr",
     "output_type": "stream",
     "text": [
      " 55%|█████▍    | 151/277 [04:02<03:37,  1.73s/it]"
     ]
    },
    {
     "name": "stdout",
     "output_type": "stream",
     "text": [
      "Skipping ambiguous series...\n"
     ]
    },
    {
     "name": "stderr",
     "output_type": "stream",
     "text": [
      " 61%|██████▏   | 170/277 [04:32<03:02,  1.71s/it]"
     ]
    },
    {
     "name": "stdout",
     "output_type": "stream",
     "text": [
      "Skipping ambiguous series...\n"
     ]
    },
    {
     "name": "stderr",
     "output_type": "stream",
     "text": [
      " 90%|████████▉ | 249/277 [06:45<00:48,  1.72s/it]"
     ]
    },
    {
     "name": "stdout",
     "output_type": "stream",
     "text": [
      "Skipping ambiguous series...\n"
     ]
    },
    {
     "name": "stderr",
     "output_type": "stream",
     "text": [
      " 95%|█████████▍| 262/277 [07:06<00:25,  1.68s/it]"
     ]
    },
    {
     "name": "stdout",
     "output_type": "stream",
     "text": [
      "Skipping ambiguous series...\n"
     ]
    },
    {
     "name": "stderr",
     "output_type": "stream",
     "text": [
      " 96%|█████████▌| 265/277 [07:09<00:17,  1.43s/it]"
     ]
    },
    {
     "name": "stdout",
     "output_type": "stream",
     "text": [
      "Skipping ambiguous series...\n"
     ]
    },
    {
     "name": "stderr",
     "output_type": "stream",
     "text": [
      " 98%|█████████▊| 271/277 [07:18<00:09,  1.54s/it]"
     ]
    },
    {
     "name": "stdout",
     "output_type": "stream",
     "text": [
      "Skipping ambiguous series...\n"
     ]
    },
    {
     "name": "stderr",
     "output_type": "stream",
     "text": [
      " 99%|█████████▊| 273/277 [07:19<00:04,  1.22s/it]"
     ]
    },
    {
     "name": "stdout",
     "output_type": "stream",
     "text": [
      "Skipping ambiguous series...\n"
     ]
    },
    {
     "name": "stderr",
     "output_type": "stream",
     "text": [
      "100%|██████████| 277/277 [07:25<00:00,  1.61s/it]\n"
     ]
    }
   ],
   "source": [
    "unique_series = train_events.series_id.unique()\n",
    "chunk_series(train_series, train_events, unique_series)"
   ]
  },
  {
   "cell_type": "markdown",
   "metadata": {},
   "source": [
    "## Confirm alignment of labels"
   ]
  },
  {
   "cell_type": "code",
   "execution_count": null,
   "metadata": {},
   "outputs": [],
   "source": [
    "def plot_series(train_events, train_series, index):\n",
    "    series_choice = train_events.series_id.unique()[index]\n",
    "    series_df = train_series[train_series.series_id.isin([series_choice])]\n",
    "    series_step = series_df.step.to_numpy()\n",
    "    series_anglez = series_df.anglez.to_numpy()\n",
    "    series_enmo = series_df.enmo.to_numpy()\n",
    "    series_labels = series_df.event.to_numpy()\n",
    "    anglez_max = series_df.anglez.abs().rolling(window=500, center=True, min_periods=1).max()\n",
    "    enmo_max = series_df.enmo.abs().rolling(window=500, center=True, min_periods=1).max()\n",
    "\n",
    "\n",
    "    steps = np.arange(series_df.shape[0])\n",
    "\n",
    "    event_df = train_events[train_events['series_id'] == series_choice]\n",
    "    onset_steps = np.array(event_df[event_df['event'] == 'onset'].step)\n",
    "    wakeup_steps = np.array(event_df[event_df['event'] == 'wakeup'].step)\n",
    "\n",
    "\n",
    "    fig, (ax1, ax2, ax3, ax4) = plt.subplots(nrows=4, ncols=1, sharex=True, squeeze=True, figsize=(16, 8))\n",
    "\n",
    "    ax1.plot(steps, series_anglez)\n",
    "\n",
    "    ax1.vlines(onset_steps, -100, 100, colors='r', label='onset')\n",
    "    ax1.vlines(wakeup_steps, -100, 100, colors='b', label='wakeup')\n",
    "\n",
    "    ax1.fill_between(steps, y1=100, y2=-100, where=series_labels == 0, facecolor='lime', alpha=.5)\n",
    "    ax1.fill_between(steps, y1=100, y2=-100, where=series_labels == 1, facecolor='orangered', alpha=.5)\n",
    "    ax1.fill_between(steps, y1=100, y2=-100, where=series_labels == 2, facecolor='blue', alpha=.5)\n",
    "    # ax1.set_ylabel('anglez freq')\n",
    "\n",
    "    ax2.plot(steps, series_enmo)\n",
    "\n",
    "    ax2.vlines(onset_steps, 0, 3, colors='r')\n",
    "    ax2.vlines(wakeup_steps, 0, 3, colors='b')\n",
    "\n",
    "    ax2.fill_between(steps, y1=4, y2=0, where=series_labels == 0, facecolor='lime', alpha=.5)\n",
    "    ax2.fill_between(steps, y1=4, y2=0, where=series_labels == 1, facecolor='orangered', alpha=.5)\n",
    "    ax2.fill_between(steps, y1=4, y2=0, where=series_labels == 2, facecolor='blue', alpha=.5)\n",
    "    # ax2.fill_between(steps, y1=4, y2=0, where=(enmo_max < 0.5) & (series_labels != 1) & (series_labels != 2), \n",
    "    #                  facecolor='orange', alpha=.5)\n",
    "    # ax2.set_xlabel('step')\n",
    "    # ax2.set_ylabel('enmo')\n",
    "\n",
    "    ax3.plot(steps, anglez_max)\n",
    "\n",
    "    ax3.vlines(onset_steps, 0, 100, colors='r', label='onset')\n",
    "    ax3.vlines(wakeup_steps, 0, 100, colors='b', label='wakeup')\n",
    "\n",
    "    ax3.fill_between(steps, y1=100, y2=0, where=series_labels == 0, facecolor='lime', alpha=.5)\n",
    "    ax3.fill_between(steps, y1=100, y2=0, where=series_labels == 1, facecolor='orangered', alpha=.5)\n",
    "    ax3.fill_between(steps, y1=100, y2=0, where=series_labels == 2, facecolor='blue', alpha=.5)\n",
    "\n",
    "    ax4.plot(steps, enmo_max)\n",
    "\n",
    "    ax4.vlines(onset_steps, 0, 4, colors='r', label='onset')\n",
    "    ax4.vlines(wakeup_steps, 0, 4, colors='b', label='wakeup')\n",
    "\n",
    "    ax4.fill_between(steps, y1=4, y2=0, where=series_labels == 0, facecolor='lime', alpha=.5)\n",
    "    ax4.fill_between(steps, y1=4, y2=0, where=series_labels == 1, facecolor='orangered', alpha=.5)\n",
    "    ax4.fill_between(steps, y1=4, y2=0, where=series_labels == 2, facecolor='blue', alpha=.5)\n",
    "    # ax4.fill_between(steps, y1=4, y2=0, where=(enmo_max < 0.5) & (anglez_max >= 75)\n",
    "    #                  & (series_labels != 1), \n",
    "                    #  facecolor='orange', alpha=.5)\n",
    "\n",
    "    # day = 1\n",
    "    # plt.xlim([17280*(day-1), 17280*(day+3)])\n",
    "\n",
    "    plt.show()\n",
    "    plt.close()"
   ]
  },
  {
   "cell_type": "code",
   "execution_count": null,
   "metadata": {},
   "outputs": [],
   "source": [
    "index = 0"
   ]
  },
  {
   "cell_type": "code",
   "execution_count": null,
   "metadata": {},
   "outputs": [],
   "source": [
    "plot_series(train_events, train_series, index)\n",
    "index+=1"
   ]
  },
  {
   "cell_type": "code",
   "execution_count": 59,
   "metadata": {},
   "outputs": [],
   "source": [
    "index = 0\n",
    "def plot_gaussian_series(train_events, train_series, index):\n",
    "    series_choice = train_events.series_id.unique()[index]\n",
    "    series_df = train_series[train_series.series_id.isin([series_choice])]\n",
    "    steps = series_df.step.to_numpy()\n",
    "    series_anglez = series_df.anglez.to_numpy()\n",
    "    series_enmo = series_df.enmo.to_numpy()\n",
    "    # series_onset_labels = series_df.onset.to_numpy()\n",
    "    # series_wakeup_labels = series_df.wakeup.to_numpy()\n",
    "    anglez_max = series_df.anglez.abs().rolling(window=60, center=True, min_periods=1).max()\n",
    "    enmo_max = series_df.enmo.abs().rolling(window=10, center=True, min_periods=1).median()\n",
    "\n",
    "    print(steps)\n",
    "\n",
    "    event_df = train_events[train_events['series_id'] == series_choice]\n",
    "    onset_steps = np.array(event_df[event_df['event'] == 'onset'].step)\n",
    "    wakeup_steps = np.array(event_df[event_df['event'] == 'wakeup'].step)\n",
    "\n",
    "    fig, (ax1, ax2, ax3, ax4) = plt.subplots(nrows=4, ncols=1, sharex=True, squeeze=True, figsize=(16, 8))\n",
    "\n",
    "    ax1.plot(steps, series_anglez)\n",
    "    # ax1.plot(steps, series_onset_labels*100, c='lime')\n",
    "    # ax1.plot(steps, series_wakeup_labels*100, c='orangered')\n",
    "\n",
    "    ax1.vlines(onset_steps, -100, 100, colors='r', label='onset')\n",
    "    ax1.vlines(wakeup_steps, -100, 100, colors='b', label='wakeup')\n",
    "\n",
    "    ax2.plot(steps, series_enmo)\n",
    "    # ax2.plot(steps, series_onset_labels*4, c='lime')\n",
    "    # ax2.plot(steps, series_wakeup_labels*4, c='orangered')\n",
    "\n",
    "    ax2.vlines(onset_steps, 0, 3, colors='r')\n",
    "    ax2.vlines(wakeup_steps, 0, 3, colors='b')\n",
    "    # ax2.set_xlabel('step')\n",
    "    # ax2.set_ylabel('enmo')\n",
    "\n",
    "    ax3.plot(steps, anglez_max)\n",
    "    # ax3.plot(steps, series_onset_labels*1, c='lime')\n",
    "    # ax3.plot(steps, series_wakeup_labels*1, c='orangered')\n",
    "\n",
    "    ax3.vlines(onset_steps, 0, 100, colors='r', label='onset')\n",
    "    ax3.vlines(wakeup_steps, 0, 100, colors='b', label='wakeup')\n",
    "\n",
    "    ax4.plot(steps, enmo_max)\n",
    "    # ax4.plot(steps, series_onset_labels*0.01, c='lime')\n",
    "    # ax4.plot(steps, series_wakeup_labels*0.01, c='orangered')\n",
    "\n",
    "    ax4.vlines(onset_steps, 0, 2, colors='r', label='onset')\n",
    "    ax4.vlines(wakeup_steps, 0, 2, colors='b', label='wakeup')\n",
    "\n",
    "    # day = 1\n",
    "    # plt.xlim([17280*(day-1), 17280*(day+3)])\n",
    "\n",
    "    plt.show()\n",
    "    plt.close()"
   ]
  },
  {
   "cell_type": "code",
   "execution_count": 60,
   "metadata": {},
   "outputs": [
    {
     "name": "stdout",
     "output_type": "stream",
     "text": [
      "[     0      1      2 ... 389877 389878 389879]\n"
     ]
    },
    {
     "data": {
      "image/png": "[encoded data removed]",
      "text/plain": [
       "<Figure size 1152x576 with 4 Axes>"
      ]
     },
     "metadata": {},
     "output_type": "display_data"
    }
   ],
   "source": [
    "plot_gaussian_series(train_events, train_series, index)\n",
    "index+=1"
   ]
  }
 ],
 "metadata": {
  "kernelspec": {
   "display_name": "pytorch",
   "language": "python",
   "name": "python3"
  },
  "language_info": {
   "codemirror_mode": {
    "name": "ipython",
    "version": 3
   },
   "file_extension": ".py",
   "mimetype": "text/x-python",
   "name": "python",
   "nbconvert_exporter": "python",
   "pygments_lexer": "ipython3",
   "version": "3.9.11"
  },
  "orig_nbformat": 4
 },
 "nbformat": 4,
 "nbformat_minor": 2
}
